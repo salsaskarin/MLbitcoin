{
  "cells": [
    {
      "cell_type": "markdown",
      "metadata": {
        "id": "21J71y_EPmSW"
      },
      "source": [
        "# UAS MACHINE LEARNING\n",
        "# Implementasi LSTM untuk memprediksi harga Bitcoin\n",
        "\n",
        "Anggota:\n",
        "1.   Salsabila Karin (140810190015)\n",
        "2.   Anki Prawira H (140810190055)\n",
        "3.   Prianggara Hadyan (140810190065)\n",
        "\n",
        "Kelas: A\n"
      ]
    },
    {
      "cell_type": "code",
      "execution_count": null,
      "metadata": {
        "colab": {
          "base_uri": "https://localhost:8080/"
        },
        "id": "rPOjGQQTC-bx",
        "outputId": "4106f858-4da7-4ae7-ca6d-7dfbbdfa84cf"
      },
      "outputs": [],
      "source": [
        "!pip install python-binance"
      ]
    },
    {
      "cell_type": "code",
      "execution_count": null,
      "metadata": {
        "colab": {
          "base_uri": "https://localhost:8080/"
        },
        "id": "VczbNE96Cbj5",
        "outputId": "5f0e3987-48b6-4ec9-85ee-d928bb38d7c0"
      },
      "outputs": [],
      "source": [
        "!pip install pandas-ta"
      ]
    },
    {
      "cell_type": "markdown",
      "metadata": {
        "id": "srbXVfvNAgXD"
      },
      "source": [
        "## Fetch Bitcoin Data"
      ]
    },
    {
      "cell_type": "code",
      "execution_count": null,
      "metadata": {
        "cellView": "code",
        "id": "Rfj38V9QAgXI"
      },
      "outputs": [],
      "source": [
        "# mengimport library yang akan digunakan\n",
        "import math\n",
        "import pandas_ta as ta\n",
        "import numpy as np\n",
        "import pandas as pd\n",
        "from sklearn.preprocessing import MinMaxScaler\n",
        "from keras.models import Sequential\n",
        "from keras.layers import Dense, LSTM, Dropout\n",
        "import matplotlib.pyplot as plt\n",
        "from datetime import datetime as dt\n",
        "from binance import Client\n",
        "import csv\n",
        "\n",
        "# ignore warnings\n",
        "import warnings\n",
        "warnings.filterwarnings(\"ignore\")"
      ]
    },
    {
      "cell_type": "code",
      "execution_count": null,
      "metadata": {
        "colab": {
          "base_uri": "https://localhost:8080/",
          "height": 358
        },
        "id": "3I1jlAEYAgXJ",
        "outputId": "628484eb-c396-4515-84aa-319c5a8f5d84"
      },
      "outputs": [],
      "source": [
        "# buat objek klien dari perpustakaan binance\n",
        "client = Client(None, None)"
      ]
    },
    {
      "cell_type": "code",
      "execution_count": null,
      "metadata": {
        "id": "vYDiIcMUAgXK"
      },
      "outputs": [],
      "source": [
        "# mendefinisikan fungsi yang mengambil data historis dari koin yang diinginkan\n",
        "def getdata(symbol, period, start, end):\n",
        "    \"\"\"\n",
        "    This function gives us the historical candle data of the desired coin\n",
        "    :param symbol: coin name that you want to get data\n",
        "    :param period: time period of candles\n",
        "    :param start: starting date of candles data\n",
        "    :param end: end date of candles data\n",
        "    :return: candles data\n",
        "    \"\"\"\n",
        "    candles = client.get_historical_klines(symbol, period, start, end)\n",
        "    return candles"
      ]
    },
    {
      "cell_type": "code",
      "execution_count": null,
      "metadata": {
        "id": "4MEVSvJwAgXK"
      },
      "outputs": [],
      "source": [
        "# mendefinisikan fungsi yang membuat file csv dari data historis koin yang diinginkan\n",
        "def make_csv(symbol, candles):\n",
        "    \"\"\"\n",
        "    This function makes csv file of desired coin with defined properties\n",
        "    :param symbol: coin name that you want to make csv file\n",
        "    :param candles: historical data of the desired coin\n",
        "    :return: historical data in csv file\n",
        "    \"\"\"\n",
        "    csvfile = open(symbol + \".csv\", \"a\", newline=\"\")\n",
        "    cursor = csv.writer(csvfile)\n",
        "    for i in candles:\n",
        "        cursor.writerow(i)\n",
        "    csvfile.close()"
      ]
    },
    {
      "cell_type": "code",
      "execution_count": null,
      "metadata": {
        "id": "ezu05YpRAgXL"
      },
      "outputs": [],
      "source": [
        "# mendefinisikan fungsi yang membuat file csv dari data historis dari beberapa koin yang diinginkan\n",
        "def multiple_csv(symbols, interval, start, end):\n",
        "    \"\"\"\n",
        "    This function makes csv file for each coin in symbols parameter with defined properties\n",
        "    :param symbols: list of multiple coin names that you want to make csv file\n",
        "    :param interval: time period of candles (default: client.KLINE_INTERVAL_1DAY you can change the interval)\n",
        "    :param start: starting date of candles data\n",
        "    :param end: end date of candles data\n",
        "    :return: historical data of multiple coin in csv files\n",
        "    \"\"\"\n",
        "    for i in symbols:\n",
        "        make_csv(i, getdata(i, interval, str(start), str(end)))\n",
        "        print(i, \"csv file is ready.\")"
      ]
    },
    {
      "cell_type": "code",
      "execution_count": null,
      "metadata": {
        "id": "WBCRiV4HAgXL"
      },
      "outputs": [],
      "source": [
        "# mendefinisikan fungsi yang mengubah stempel waktu ke tanggal\n",
        "def calculate_time(timestamp):\n",
        "    \"\"\"\n",
        "    This function turns the timestamp to the date\n",
        "    :param timestamp: given timestamp\n",
        "    :return: date according to given timestamp\n",
        "    \"\"\"\n",
        "    return dt.fromtimestamp(timestamp/1000)"
      ]
    },
    {
      "cell_type": "code",
      "execution_count": null,
      "metadata": {
        "id": "keHNeTgwAgXM"
      },
      "outputs": [],
      "source": [
        "# dapatkan data historis Bitcoin dan buat csv\n",
        "multiple_csv([\"BTCUSDT\"], client.KLINE_INTERVAL_1DAY, \"8 November 2010\", \"20 September 2022\")"
      ]
    },
    {
      "cell_type": "code",
      "execution_count": null,
      "metadata": {
        "id": "lST3e73NAgXM"
      },
      "outputs": [],
      "source": [
        "# membaca data historis Bitcoin sebagai kerangka data dengan nama kolom\n",
        "headers = [\"Open Time\", \"Open\", \"High\", \"Low\", \"Close\", \"Volume\", \"Close Time\", \"QAV\", \"NAT\", \"TBBAV\", \"TBQAV\", \"Ignore\"]\n",
        "data = pd.read_csv(\"BTCUSDT.csv\", names=headers)\n",
        "data.head()"
      ]
    },
    {
      "cell_type": "code",
      "execution_count": null,
      "metadata": {
        "id": "7pdZlVo2AgXM"
      },
      "outputs": [],
      "source": [
        "# Ubah kolom \"Open Time\" dan \"Close Time\" menjadi Tanggal\n",
        "open_date = []\n",
        "for i in data[\"Open Time\"]:\n",
        "    open_date.append(calculate_time(i))\n",
        "data[\"Open Time\"] = open_date\n",
        "\n",
        "close_date = []\n",
        "for i in data[\"Close Time\"]:\n",
        "    close_date.append(calculate_time(i))\n",
        "data[\"Close Time\"] = close_date\n",
        "data"
      ]
    },
    {
      "cell_type": "markdown",
      "metadata": {
        "id": "aNcSFMU-AgXN"
      },
      "source": [
        "## Visualize the Bitcoin Data"
      ]
    },
    {
      "cell_type": "code",
      "execution_count": null,
      "metadata": {
        "id": "Fc0AKO7sAgXN"
      },
      "outputs": [],
      "source": [
        "# Visualisasikan riwayat harga penutupan\n",
        "plt.figure(figsize=(16, 8))\n",
        "plt.title(\"Bitcoin Price History\")\n",
        "plt.plot(data[\"Close Time\"], data[\"Close\"])\n",
        "plt.xlabel(\"Time\", fontsize=14,)\n",
        "plt.ylabel(\"USDT\", fontsize=14)\n",
        "plt.show()"
      ]
    },
    {
      "cell_type": "markdown",
      "metadata": {
        "id": "4v925yHFAgXO"
      },
      "source": [
        "## Create Train and Test Data"
      ]
    },
    {
      "cell_type": "code",
      "execution_count": null,
      "metadata": {
        "id": "AXh-dv-uAgXO"
      },
      "outputs": [],
      "source": [
        "# Buat data baru hanya dengan kolom \"Close\".\n",
        "close = data.filter([\"Close\"])\n",
        "# Ubah kerangka data menjadi np array\n",
        "close_array = close.values\n",
        "# Lihat train data len\n",
        "train_close_len = math.ceil(len(close_array) * 0.8)\n",
        "train_close_len"
      ]
    },
    {
      "cell_type": "code",
      "execution_count": null,
      "metadata": {
        "id": "_kuFLEYjAgXO"
      },
      "outputs": [],
      "source": [
        "# Normalisasi data\n",
        "scaler = MinMaxScaler()\n",
        "scaled_data = scaler.fit_transform(close_array)\n",
        "scaled_data"
      ]
    },
    {
      "cell_type": "code",
      "execution_count": null,
      "metadata": {
        "id": "46_cieChAgXP"
      },
      "outputs": [],
      "source": [
        "# Membuat training dataset\n",
        "train_data = scaled_data[0 : train_close_len, :]\n",
        "# Buat X_train dan y_train\n",
        "X_train = []\n",
        "y_train = []\n",
        "for i in range(60, len(train_data)):\n",
        "    X_train.append(train_data[i - 60 : i, 0])\n",
        "    y_train.append(train_data[i, 0])\n",
        "    if i <= 60:\n",
        "        print(X_train)\n",
        "        print(y_train)"
      ]
    },
    {
      "cell_type": "code",
      "execution_count": null,
      "metadata": {
        "id": "Ic9Ne1_wAgXP"
      },
      "outputs": [],
      "source": [
        "#  Buat X_train dan y_train np array\n",
        "X_train, y_train = np.array(X_train), np.array(y_train)"
      ]
    },
    {
      "cell_type": "code",
      "execution_count": null,
      "metadata": {
        "id": "f_R1JDWxAgXP"
      },
      "outputs": [],
      "source": [
        "# reshape the data\n",
        "X_train = np.reshape(X_train, (X_train.shape[0], X_train.shape[1], 1))\n",
        "X_train.shape"
      ]
    },
    {
      "cell_type": "code",
      "execution_count": null,
      "metadata": {
        "id": "9m85XZ-lAgXP"
      },
      "outputs": [],
      "source": [
        "# Membuat testing dataset\n",
        "test_data = scaled_data[train_close_len - 60 : , :]\n",
        "# Buat X_test and y_test\n",
        "X_test = []\n",
        "y_test = data.iloc[train_close_len : , :]\n",
        "for i in range(60, len(test_data)):\n",
        "    X_test.append(test_data[i - 60 : i, 0])"
      ]
    },
    {
      "cell_type": "code",
      "execution_count": null,
      "metadata": {
        "id": "qMpm1WKXAgXP"
      },
      "outputs": [],
      "source": [
        "# convert data testing menjadi np array dan reshape daya testing\n",
        "X_test = np.array(X_test)\n",
        "X_test = np.reshape(X_test, (X_test.shape[0], X_test.shape[1], 1))"
      ]
    },
    {
      "cell_type": "markdown",
      "metadata": {
        "id": "RTJho4gSAgXQ"
      },
      "source": [
        "## Build a LSTM Model"
      ]
    },
    {
      "cell_type": "code",
      "execution_count": null,
      "metadata": {
        "id": "ZEEtaor9AgXQ"
      },
      "outputs": [],
      "source": [
        "# Membangun LSTM Model\n",
        "model = Sequential()\n",
        "\n",
        "model.add(LSTM(units=512, return_sequences=True, activation='relu', input_shape=(X_train.shape[1], 1)))\n",
        "\n",
        "\n",
        "model.add(LSTM(units=256, activation='relu', return_sequences=False))\n",
        "\n",
        "\n",
        "model.add(Dense(units=1))"
      ]
    },
    {
      "cell_type": "code",
      "execution_count": null,
      "metadata": {
        "id": "BHwLx7CoAgXQ"
      },
      "outputs": [],
      "source": [
        "# compile LSTM model\n",
        "model.compile(optimizer=\"Adam\", loss=\"mean_squared_error\", metrics=['mae'])"
      ]
    },
    {
      "cell_type": "code",
      "execution_count": null,
      "metadata": {
        "id": "5SycMObhAgXQ"
      },
      "outputs": [],
      "source": [
        "# train LSTM model\n",
        "model.fit(X_train, y_train,\n",
        "          epochs=3,\n",
        "          batch_size=100, \n",
        "          verbose=1)"
      ]
    },
    {
      "cell_type": "code",
      "execution_count": null,
      "metadata": {
        "id": "ze0h3qjHAgXR"
      },
      "outputs": [],
      "source": [
        "# prediksi dengan LSTM model\n",
        "predictions = model.predict(X_test)\n",
        "predictions = scaler.inverse_transform(predictions)"
      ]
    },
    {
      "cell_type": "code",
      "execution_count": null,
      "metadata": {
        "id": "PiqMffJEqp4M"
      },
      "outputs": [],
      "source": [
        "# RMSE (Root Mean Squared Error)\n",
        "rmse = np.sqrt(np.mean(((predictions - y_test) ** 2)))\n",
        "print(\"Skor RMSE dari model:\", rmse)"
      ]
    },
    {
      "cell_type": "code",
      "execution_count": null,
      "metadata": {
        "id": "0TIxL061AgXR"
      },
      "outputs": [],
      "source": [
        "# plot the data\n",
        "train = close[:train_close_len]\n",
        "valid = close[train_close_len:]\n",
        "valid[\"Predictions\"] = predictions\n",
        "#visualisasi data\n",
        "plt.figure(figsize=(16, 8))\n",
        "plt.title(\"LSTM Model\")\n",
        "plt.xlabel(\"Time\", fontsize=14)\n",
        "plt.ylabel(\"USDT\", fontsize=14)\n",
        "plt.plot(data[\"Close Time\"][:train_close_len], train[\"Close\"])\n",
        "plt.plot(data[\"Close Time\"][train_close_len:], valid[[\"Close\", \"Predictions\"]])\n",
        "plt.legend([\"Train\", \"Validation\", \"Predictions\"], loc=\"lower right\")\n",
        "plt.show()"
      ]
    }
  ],
  "metadata": {
    "colab": {
      "provenance": []
    },
    "kernelspec": {
      "display_name": "Python 3",
      "language": "python",
      "name": "python3"
    },
    "language_info": {
      "codemirror_mode": {
        "name": "ipython",
        "version": 3
      },
      "file_extension": ".py",
      "mimetype": "text/x-python",
      "name": "python",
      "nbconvert_exporter": "python",
      "pygments_lexer": "ipython3",
      "version": "3.6.4"
    }
  },
  "nbformat": 4,
  "nbformat_minor": 0
}
